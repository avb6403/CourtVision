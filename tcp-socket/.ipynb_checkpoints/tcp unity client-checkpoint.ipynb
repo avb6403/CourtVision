{
 "cells": [
  {
   "cell_type": "code",
   "execution_count": 2,
   "id": "89f9aaca",
   "metadata": {},
   "outputs": [],
   "source": [
    "import socket\n",
    "import sys\n"
   ]
  },
  {
   "cell_type": "code",
   "execution_count": 15,
   "id": "f667d537",
   "metadata": {},
   "outputs": [
    {
     "name": "stdout",
     "output_type": "stream",
     "text": [
      "Sent:     12\n",
      "Received: 12\n"
     ]
    }
   ],
   "source": [
    "HOST, PORT = \"localhost\", 9999\n",
    "# data = \" \".join(sys.argv[1:])\n",
    "def TCP_socket_and_response(width,height,x,y,z,yaw,pitch,roll)\n",
    "data=str(width,height)\n",
    "# width,height,x,y,z,yaw,pitch,roll\n",
    "# Create a socket (SOCK_STREAM means a TCP socket)\n",
    "with socket.socket(socket.AF_INET, socket.SOCK_STREAM) as sock:\n",
    "    # Connect to server and send data\n",
    "    sock.connect((HOST, PORT))\n",
    "    sock.sendall(bytes(data + \"\\n\", \"utf-8\"))\n",
    "\n",
    "    # Receive data from the server and shut down\n",
    "    received = str(sock.recv(1024), \"utf-8\")\n",
    "\n",
    "print(\"Sent:     {}\".format(data))\n",
    "print(\"Received: {}\".format(received))"
   ]
  },
  {
   "cell_type": "code",
   "execution_count": null,
   "id": "7b407a7c",
   "metadata": {},
   "outputs": [],
   "source": [
    "# I need to lookup the x,y,z from the delta t file,\n",
    "# send that pose to unity,\n",
    "# then get unity's response (known size)\n",
    "# then call ball detect function, waiting for response"
   ]
  }
 ],
 "metadata": {
  "kernelspec": {
   "display_name": "Python 3 (ipykernel)",
   "language": "python",
   "name": "python3"
  },
  "language_info": {
   "codemirror_mode": {
    "name": "ipython",
    "version": 3
   },
   "file_extension": ".py",
   "mimetype": "text/x-python",
   "name": "python",
   "nbconvert_exporter": "python",
   "pygments_lexer": "ipython3",
   "version": "3.10.6"
  }
 },
 "nbformat": 4,
 "nbformat_minor": 5
}
