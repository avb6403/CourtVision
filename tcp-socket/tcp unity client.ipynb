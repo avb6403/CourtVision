{
 "cells": [
  {
   "cell_type": "code",
   "execution_count": 2,
   "id": "3d1704c5",
   "metadata": {},
   "outputs": [],
   "source": [
    "import socket\n",
    "import sys\n"
   ]
  },
  {
   "cell_type": "code",
   "execution_count": 48,
   "id": "741eab23",
   "metadata": {},
   "outputs": [],
   "source": [
    "HOST, PORT = \"localhost\", 9999\n",
    "# data = \" \".join(sys.argv[1:])\n",
    "def TCP_socket_and_response(width,height,x,y,z,yaw,pitch,roll):\n",
    "    data=\" \".join([width,height,x,y,z,yaw,pitch,roll])\n",
    "    # width,height,x,y,z,yaw,pitch,roll\n",
    "    # Create a socket (SOCK_STREAM means a TCP socket)\n",
    "    with socket.socket(socket.AF_INET, socket.SOCK_STREAM) as sock:\n",
    "        # Connect to server and send data\n",
    "        sock.connect((HOST, PORT))\n",
    "        sock.sendall(bytes(data + \"\\n\", \"utf-8\"))\n",
    "\n",
    "        # Receive data from the server and shut down\n",
    "        received = str(sock.recv(1024), \"utf-8\")\n",
    "        return received\n",
    "\n"
   ]
  },
  {
   "cell_type": "code",
   "execution_count": 49,
   "id": "e7549d0c",
   "metadata": {},
   "outputs": [],
   "source": [
    "# I need to lookup the x,y,z from the delta t file,\n",
    "# send that pose to unity,\n",
    "# then get unity's response (known size)\n",
    "# then call ball detect function, waiting for response"
   ]
  },
  {
   "cell_type": "code",
   "execution_count": 50,
   "id": "16c2ced5",
   "metadata": {},
   "outputs": [
    {
     "name": "stdout",
     "output_type": "stream",
     "text": [
      "Received: 640 480 0 1 0 90 -90 90\n"
     ]
    }
   ],
   "source": [
    "received = TCP_socket_and_response(\"640\",\"480\",\"0\",\"1\",\"0\",\"90\",\"-90\",\"90\")\n",
    "# print(\"Sent:     {}\".format(data))\n",
    "print(\"Received: {}\".format(received))"
   ]
  },
  {
   "cell_type": "code",
   "execution_count": null,
   "id": "d5a03eb4",
   "metadata": {},
   "outputs": [],
   "source": []
  }
 ],
 "metadata": {
  "kernelspec": {
   "display_name": "Python 3 (ipykernel)",
   "language": "python",
   "name": "python3"
  },
  "language_info": {
   "codemirror_mode": {
    "name": "ipython",
    "version": 3
   },
   "file_extension": ".py",
   "mimetype": "text/x-python",
   "name": "python",
   "nbconvert_exporter": "python",
   "pygments_lexer": "ipython3",
   "version": "3.10.6"
  }
 },
 "nbformat": 4,
 "nbformat_minor": 5
}
