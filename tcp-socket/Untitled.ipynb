{
 "cells": [
  {
   "cell_type": "code",
   "execution_count": 7,
   "id": "eaa09a32",
   "metadata": {},
   "outputs": [],
   "source": [
    "import socketserver\n",
    "\n",
    "class MyTCPHandler(socketserver.BaseRequestHandler):\n",
    "    \"\"\"\n",
    "    The request handler class for our server.\n",
    "\n",
    "    It is instantiated once per connection to the server, and must\n",
    "    override the handle() method to implement communication to the\n",
    "    client.\n",
    "    \"\"\"\n",
    "\n",
    "    def handle(self):\n",
    "        # self.request is the TCP socket connected to the client\n",
    "        self.data = self.request.recv(1024).strip()\n",
    "        print(\"{} wrote:\".format(self.client_address[0]))\n",
    "        print(self.data)\n",
    "        # just send back the same data, but upper-cased\n",
    "        self.request.sendall(self.data.upper())\n",
    "\n",
    "HOST, PORT = \"localhost\", 9999\n",
    "\n",
    "  "
   ]
  },
  {
   "cell_type": "code",
   "execution_count": null,
   "id": "e8b45f70",
   "metadata": {},
   "outputs": [
    {
     "name": "stdout",
     "output_type": "stream",
     "text": [
      "127.0.0.1 wrote:\n",
      "b'12345'\n",
      "127.0.0.1 wrote:\n",
      "b'12345123'\n",
      "127.0.0.1 wrote:\n",
      "b''\n",
      "127.0.0.1 wrote:\n",
      "b''\n",
      "127.0.0.1 wrote:\n",
      "b''\n",
      "127.0.0.1 wrote:\n",
      "b'12'\n",
      "127.0.0.1 wrote:\n",
      "b'640 480'\n",
      "127.0.0.1 wrote:\n",
      "b'640 480 0 1 0 90 -90 90'\n",
      "127.0.0.1 wrote:\n",
      "b'640, 480, 0, 1, 0, 90, -90, 90'\n",
      "127.0.0.1 wrote:\n",
      "b'640 480 0 1 0 90 -90 90'\n",
      "127.0.0.1 wrote:\n",
      "b'640 480 0 1 0 90 -90 90'\n"
     ]
    }
   ],
   "source": [
    "  # Create the server, binding to localhost on port 9999\n",
    "server = socketserver.TCPServer((HOST, PORT), MyTCPHandler)\n",
    "\n",
    "    # Activate the server; this will keep running until you\n",
    "    # interrupt the program with Ctrl-C\n",
    "server.serve_forever()"
   ]
  },
  {
   "cell_type": "code",
   "execution_count": null,
   "id": "bccbd817",
   "metadata": {},
   "outputs": [],
   "source": []
  }
 ],
 "metadata": {
  "kernelspec": {
   "display_name": "Python 3 (ipykernel)",
   "language": "python",
   "name": "python3"
  },
  "language_info": {
   "codemirror_mode": {
    "name": "ipython",
    "version": 3
   },
   "file_extension": ".py",
   "mimetype": "text/x-python",
   "name": "python",
   "nbconvert_exporter": "python",
   "pygments_lexer": "ipython3",
   "version": "3.10.6"
  }
 },
 "nbformat": 4,
 "nbformat_minor": 5
}
